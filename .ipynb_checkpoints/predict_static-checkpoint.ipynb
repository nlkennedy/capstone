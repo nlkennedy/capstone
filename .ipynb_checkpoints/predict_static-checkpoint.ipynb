{
 "cells": [
  {
   "cell_type": "code",
   "execution_count": 3,
   "metadata": {},
   "outputs": [],
   "source": [
    "import matplotlib.pyplot as plt\n",
    "import numpy as np\n",
    "from keras.models import model_from_json\n",
    "import operator\n",
    "import cv2\n",
    "import sys, os\n",
    "import tensorflow as tf\n",
    "from sklearn import metrics\n",
    "import itertools"
   ]
  },
  {
   "cell_type": "code",
   "execution_count": 4,
   "metadata": {},
   "outputs": [
    {
     "name": "stdout",
     "output_type": "stream",
     "text": [
      "Loaded model from disk\n"
     ]
    }
   ],
   "source": [
    "# Loading the model\n",
    "json_file = open(\"model.json\", \"r\")\n",
    "model_json = json_file.read()\n",
    "json_file.close()\n",
    "loaded_model = model_from_json(model_json)\n",
    "# load weights into new model\n",
    "loaded_model.load_weights(\"model.h5\")\n",
    "print(\"Loaded model from disk\")"
   ]
  },
  {
   "cell_type": "code",
   "execution_count": 5,
   "metadata": {},
   "outputs": [
    {
     "name": "stdout",
     "output_type": "stream",
     "text": [
      "Found 80 images belonging to 4 classes.\n"
     ]
    }
   ],
   "source": [
    "# Step 2 - Preparing the train/test data and training the model\n",
    "\n",
    "# Code copied from - https://keras.io/preprocessing/image/\n",
    "from keras.preprocessing.image import ImageDataGenerator\n",
    "\n",
    "batch_size = 5\n",
    "\n",
    "train_datagen = ImageDataGenerator(\n",
    "        rescale=1./255,\n",
    "        shear_range=0.2,\n",
    "        zoom_range=0.2,\n",
    "        horizontal_flip=True)\n",
    "\n",
    "test_datagen = ImageDataGenerator(rescale=1./255)\n",
    "\n",
    "test_set = test_datagen.flow_from_directory('data/test',\n",
    "                                            target_size=(64, 64),\n",
    "                                            batch_size=batch_size,\n",
    "                                            color_mode='grayscale',\n",
    "                                            class_mode='categorical', \n",
    "                                            shuffle=False) \n"
   ]
  },
  {
   "cell_type": "code",
   "execution_count": 20,
   "metadata": {},
   "outputs": [
    {
     "name": "stdout",
     "output_type": "stream",
     "text": [
      "[[1. 0. 0. 0.]\n",
      " [1. 0. 0. 0.]\n",
      " [1. 0. 0. 0.]\n",
      " [1. 0. 0. 0.]\n",
      " [1. 0. 0. 0.]]\n",
      "(64, 64, 1)\n",
      "<class 'numpy.ndarray'>\n"
     ]
    }
   ],
   "source": [
    "test_imgs, test_labels= next(test_set)\n",
    "print(test_labels)\n",
    "print(test_imgs[0].shape)\n",
    "print(type(test_imgs[0]))"
   ]
  },
  {
   "cell_type": "code",
   "execution_count": 7,
   "metadata": {},
   "outputs": [
    {
     "data": {
      "text/plain": [
       "Text(0.5, 1.0, 'Let')"
      ]
     },
     "execution_count": 7,
     "metadata": {},
     "output_type": "execute_result"
    },
    {
     "data": {
      "image/png": "[encoded data removed]",
      "text/plain": [
       "<Figure size 432x288 with 5 Axes>"
      ]
     },
     "metadata": {
      "needs_background": "light"
     },
     "output_type": "display_data"
    }
   ],
   "source": [
    "# print one batch\n",
    "f, axarr = plt.subplots(1,5)\n",
    "axarr[0].imshow(test_imgs[0].squeeze())\n",
    "axarr[1].imshow(test_imgs[1].squeeze())\n",
    "axarr[2].imshow(test_imgs[2].squeeze())\n",
    "axarr[3].imshow(test_imgs[3].squeeze())\n",
    "axarr[4].imshow(test_imgs[4].squeeze())\n",
    "\n",
    "categories = {0: 'Let', 1: 'None', 2: 'No Let', 3: 'Stroke'}\n",
    "\n",
    "axarr[0].set_title(categories[np.argmax(test_labels[0], axis=-1)])\n",
    "axarr[1].set_title(categories[np.argmax(test_labels[1], axis=-1)])\n",
    "axarr[2].set_title(categories[np.argmax(test_labels[2], axis=-1)])\n",
    "axarr[3].set_title(categories[np.argmax(test_labels[3], axis=-1)])\n",
    "axarr[4].set_title(categories[np.argmax(test_labels[4], axis=-1)])"
   ]
  },
  {
   "cell_type": "code",
   "execution_count": 8,
   "metadata": {},
   "outputs": [
    {
     "data": {
      "text/plain": [
       "array([0, 0, 0, 0, 0, 0, 0, 0, 0, 0, 0, 0, 0, 0, 0, 0, 0, 0, 0, 0, 1, 1,\n",
       "       1, 1, 1, 1, 1, 1, 1, 1, 1, 1, 1, 1, 1, 1, 1, 1, 1, 1, 2, 2, 2, 2,\n",
       "       2, 2, 2, 2, 2, 2, 2, 2, 2, 2, 2, 2, 2, 2, 2, 2, 3, 3, 3, 3, 3, 3,\n",
       "       3, 3, 3, 3, 3, 3, 3, 3, 3, 3, 3, 3, 3, 3], dtype=int32)"
      ]
     },
     "execution_count": 8,
     "metadata": {},
     "output_type": "execute_result"
    }
   ],
   "source": [
    "y_true=test_set.classes\n",
    "y_true"
   ]
  },
  {
   "cell_type": "code",
   "execution_count": 9,
   "metadata": {},
   "outputs": [],
   "source": [
    "predictions = loaded_model.predict(x=test_set, verbose=0)\n",
    "# np.round(predictions)"
   ]
  },
  {
   "cell_type": "code",
   "execution_count": 10,
   "metadata": {},
   "outputs": [
    {
     "data": {
      "text/plain": [
       "array([0, 0, 0, 0, 0, 0, 0, 0, 0, 0, 0, 0, 0, 0, 0, 0, 0, 0, 0, 0, 1, 1,\n",
       "       1, 1, 1, 1, 1, 1, 1, 1, 1, 1, 1, 1, 1, 1, 1, 1, 1, 1, 2, 2, 2, 2,\n",
       "       2, 0, 0, 2, 2, 2, 2, 2, 2, 2, 2, 2, 2, 2, 2, 2, 3, 3, 3, 2, 3, 3,\n",
       "       3, 3, 3, 3, 3, 3, 3, 3, 3, 3, 3, 3, 3, 3])"
      ]
     },
     "execution_count": 10,
     "metadata": {},
     "output_type": "execute_result"
    }
   ],
   "source": [
    "y_pred=np.argmax(predictions, axis=-1)\n",
    "cm = metrics.confusion_matrix(y_true=y_true, y_pred=y_pred)\n",
    "y_pred"
   ]
  },
  {
   "cell_type": "code",
   "execution_count": 11,
   "metadata": {},
   "outputs": [
    {
     "data": {
      "text/plain": [
       "{'let': 0, 'nolet': 1, 'none': 2, 'stroke': 3}"
      ]
     },
     "execution_count": 11,
     "metadata": {},
     "output_type": "execute_result"
    }
   ],
   "source": [
    "test_set.class_indices"
   ]
  },
  {
   "cell_type": "code",
   "execution_count": 12,
   "metadata": {},
   "outputs": [],
   "source": [
    "def plot_confusion_matrix(cm, classes,\n",
    "                          normalize=False,\n",
    "                          title='Confusion matrix',\n",
    "                          cmap=plt.cm.Blues):\n",
    "    \"\"\"\n",
    "    This function prints and plots the confusion matrix.\n",
    "    Normalization can be applied by setting `normalize=True`.\n",
    "    \"\"\"\n",
    "    plt.imshow(cm, interpolation='nearest', cmap=cmap)\n",
    "    plt.title(title)\n",
    "    plt.colorbar()\n",
    "    tick_marks = np.arange(len(classes))\n",
    "    plt.xticks(tick_marks, classes, rotation=45)\n",
    "    plt.yticks(tick_marks, classes)\n",
    "\n",
    "    if normalize:\n",
    "        cm = cm.astype('float') / cm.sum(axis=1)[:, np.newaxis]\n",
    "        print(\"Normalized confusion matrix\")\n",
    "    else:\n",
    "        print('Confusion matrix, without normalization')\n",
    "\n",
    "    print(cm)\n",
    "\n",
    "    thresh = cm.max() / 2.\n",
    "    for i, j in itertools.product(range(cm.shape[0]), range(cm.shape[1])):\n",
    "        plt.text(j, i, cm[i, j],\n",
    "            horizontalalignment=\"center\",\n",
    "            color=\"white\" if cm[i, j] > thresh else \"black\")\n",
    "\n",
    "    plt.tight_layout()\n",
    "    plt.ylabel('True label')\n",
    "    plt.xlabel('Predicted label')"
   ]
  },
  {
   "cell_type": "code",
   "execution_count": 13,
   "metadata": {},
   "outputs": [
    {
     "name": "stdout",
     "output_type": "stream",
     "text": [
      "Confusion matrix, without normalization\n",
      "[[20  0  0  0]\n",
      " [ 0 20  0  0]\n",
      " [ 2  0 18  0]\n",
      " [ 0  0  1 19]]\n"
     ]
    },
    {
     "data": {
      "image/png": "[encoded data removed]",
      "text/plain": [
       "<Figure size 432x288 with 2 Axes>"
      ]
     },
     "metadata": {
      "needs_background": "light"
     },
     "output_type": "display_data"
    }
   ],
   "source": [
    "cm_plot_labels = ['Let', 'No Let', 'None', 'Stroke']\n",
    "plot_confusion_matrix(cm=cm, classes=cm_plot_labels, title=\"Confusion Matrix\")"
   ]
  },
  {
   "cell_type": "code",
   "execution_count": 14,
   "metadata": {},
   "outputs": [
    {
     "name": "stdout",
     "output_type": "stream",
     "text": [
      "Accuracy: 0.9625\n",
      "Precision: [0.90909091 1.         0.94736842 1.        ]\n",
      "Precision: [1.   1.   0.9  0.95]\n"
     ]
    }
   ],
   "source": [
    "# print metrics\n",
    "accuracy = metrics.accuracy_score(y_true=y_true, y_pred=y_pred, normalize=True, sample_weight=None)\n",
    "print(\"Accuracy: %s\"% accuracy)\n",
    "\n",
    "# precision = tp / (tp + fp)\n",
    "precision = metrics.precision_score(y_true=y_true, y_pred=y_pred, average=None)\n",
    "print(\"Precision: %s\"% precision)\n",
    "\n",
    "# recall = tp / (tp + fn)\n",
    "recall = metrics.recall_score(y_true=y_true, y_pred=y_pred, average=None)\n",
    "print(\"Precision: %s\"% recall)"
   ]
  },
  {
   "cell_type": "code",
   "execution_count": 15,
   "metadata": {},
   "outputs": [],
   "source": [
    "\n",
    "\n",
    "\n",
    "# print false positives"
   ]
  },
  {
   "cell_type": "code",
   "execution_count": 16,
   "metadata": {},
   "outputs": [],
   "source": [
    "def load_images_from_folder(folder):\n",
    "    images = []\n",
    "    for filename in os.listdir(folder):\n",
    "        img = cv2.imread(os.path.join(folder,filename))\n",
    "        if img is not None:\n",
    "            images.append(img)\n",
    "    return images\n"
   ]
  },
  {
   "cell_type": "code",
   "execution_count": 17,
   "metadata": {},
   "outputs": [],
   "source": [
    "# Load images for examination \n",
    "\n",
    "let_images = load_images_from_folder('data/test/let')\n",
    "none_images = load_images_from_folder('data/test/let')\n",
    "nolet_images = load_images_from_folder('data/test/let')\n",
    "stroke_images = load_images_from_folder('data/test/let')\n",
    "# print(let_images)\n",
    "\n",
    "\n",
    "\n",
    "# print false negatives"
   ]
  },
  {
   "cell_type": "code",
   "execution_count": 40,
   "metadata": {},
   "outputs": [
    {
     "name": "stdout",
     "output_type": "stream",
     "text": [
      "<class 'numpy.ndarray'>\n",
      "(5, 64, 64, 1)\n",
      "(64, 64, 1)\n"
     ]
    }
   ],
   "source": [
    "print(type(test_set[0][0]))\n",
    "print(test_set[0][0].shape)\n",
    "\n",
    "# print(test_set[0][0].squeeze(axis=1).shape)\n",
    "print(test_set[0][0][0].shape)\n",
    "\n",
    "# print(type(test_set))\n",
    "# print(test_set.__getitem__(0))\n",
    "\n",
    "# print(type(test_set[0]))\n",
    "# print(test_set[0])\n",
    "# print(len(test_set[0]))\n",
    "# print(test_set[0][0])\n",
    "# print(test_set[0][1])"
   ]
  },
  {
   "cell_type": "code",
   "execution_count": 54,
   "metadata": {},
   "outputs": [
    {
     "name": "stdout",
     "output_type": "stream",
     "text": [
      "False Positive\n",
      "45\n"
     ]
    },
    {
     "data": {
      "image/png": "[encoded data removed]",
      "text/plain": [
       "<Figure size 432x288 with 1 Axes>"
      ]
     },
     "metadata": {
      "needs_background": "light"
     },
     "output_type": "display_data"
    },
    {
     "name": "stdout",
     "output_type": "stream",
     "text": [
      "False Positive\n",
      "46\n"
     ]
    },
    {
     "data": {
      "image/png": "[encoded data removed]",
      "text/plain": [
       "<Figure size 432x288 with 1 Axes>"
      ]
     },
     "metadata": {
      "needs_background": "light"
     },
     "output_type": "display_data"
    },
    {
     "name": "stdout",
     "output_type": "stream",
     "text": [
      "False Positive\n",
      "63\n"
     ]
    },
    {
     "data": {
      "image/png": "[encoded data removed]",
      "text/plain": [
       "<Figure size 432x288 with 1 Axes>"
      ]
     },
     "metadata": {
      "needs_background": "light"
     },
     "output_type": "display_data"
    },
    {
     "name": "stdout",
     "output_type": "stream",
     "text": [
      "0\n"
     ]
    }
   ],
   "source": [
    "# print(test_set[0])\n",
    "\n",
    "# y_true=y_true, y_pred=y_pred\n",
    "\n",
    "count = 0\n",
    "\n",
    "# i, element in enumerate(array)\n",
    "\n",
    "for i, label in enumerate(zip(y_true, y_pred)):\n",
    "    true = label[0]\n",
    "    pred = label[1]\n",
    "    if true != pred:\n",
    "        if true == 1:\n",
    "            print(\"False Negative\")\n",
    "        else:\n",
    "            print(\"False Positive\")\n",
    "        print(i)\n",
    "        img = np.array(test_set[i // 5][0][i % 5])\n",
    "#         img = np.array(test_set[0][0][0])\n",
    "\n",
    "        imgplot = plt.imshow(img.squeeze())\n",
    "        plt.show()\n",
    "\n",
    "print(count)\n"
   ]
  },
  {
   "cell_type": "code",
   "execution_count": 51,
   "metadata": {},
   "outputs": [
    {
     "name": "stdout",
     "output_type": "stream",
     "text": [
      "5\n"
     ]
    }
   ],
   "source": [
    "print(len(test_set[0][0]))"
   ]
  },
  {
   "cell_type": "code",
   "execution_count": null,
   "metadata": {},
   "outputs": [],
   "source": []
  }
 ],
 "metadata": {
  "kernelspec": {
   "display_name": "Python 3",
   "language": "python",
   "name": "python3"
  },
  "language_info": {
   "codemirror_mode": {
    "name": "ipython",
    "version": 3
   },
   "file_extension": ".py",
   "mimetype": "text/x-python",
   "name": "python",
   "nbconvert_exporter": "python",
   "pygments_lexer": "ipython3",
   "version": "3.7.4"
  }
 },
 "nbformat": 4,
 "nbformat_minor": 4
}
