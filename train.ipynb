{
 "cells": [
  {
   "cell_type": "markdown",
   "metadata": {},
   "source": [
    "# Train"
   ]
  },
  {
   "cell_type": "code",
   "execution_count": 10,
   "metadata": {},
   "outputs": [],
   "source": [
    "# Importing the Keras libraries and packages\n",
    "from keras.models import Sequential\n",
    "from keras.layers import Convolution2D\n",
    "from keras.layers import MaxPooling2D\n",
    "from keras.layers import Flatten\n",
    "from keras.layers import Dense"
   ]
  },
  {
   "cell_type": "code",
   "execution_count": 16,
   "metadata": {},
   "outputs": [],
   "source": [
    "# Step 1 - Building the CNN\n",
    "\n",
    "# Initializing the CNN\n",
    "classifier = Sequential()\n",
    "\n",
    "# First convolution layer and pooling\n",
    "classifier.add(Convolution2D(32, (3, 3), input_shape=(64, 64, 1), activation='relu'))\n",
    "classifier.add(MaxPooling2D(pool_size=(2, 2)))\n",
    "# Second convolution layer and pooling\n",
    "classifier.add(Convolution2D(32, (3, 3), activation='relu'))\n",
    "# input_shape is going to be the pooled feature maps from the previous convolution layer\n",
    "classifier.add(MaxPooling2D(pool_size=(2, 2)))\n",
    "\n",
    "# Flattening the layers\n",
    "classifier.add(Flatten())\n",
    "\n",
    "# Adding a fully connected layer\n",
    "classifier.add(Dense(units=128, activation='relu'))\n",
    "# units = number of classes\n",
    "classifier.add(Dense(units=2, activation='softmax')) # softmax for more than 2\n",
    "\n",
    "# Compiling the CNN\n",
    "classifier.compile(optimizer='adam', loss='categorical_crossentropy', metrics=['accuracy']) # categorical_crossentropy for more than 2"
   ]
  },
  {
   "cell_type": "code",
   "execution_count": 17,
   "metadata": {},
   "outputs": [
    {
     "name": "stdout",
     "output_type": "stream",
     "text": [
      "Found 160 images belonging to 2 classes.\n",
      "Found 40 images belonging to 2 classes.\n"
     ]
    }
   ],
   "source": [
    "# Step 2 - Preparing the train/test data and training the model\n",
    "\n",
    "# Code copied from - https://keras.io/preprocessing/image/\n",
    "from keras.preprocessing.image import ImageDataGenerator\n",
    "\n",
    "batch_size = 5\n",
    "\n",
    "train_datagen = ImageDataGenerator(\n",
    "        rescale=1./255,\n",
    "        shear_range=0.2,\n",
    "        zoom_range=0.2,\n",
    "        horizontal_flip=True,\n",
    "        validation_split=0.2)\n",
    "\n",
    "test_datagen = ImageDataGenerator(rescale=1./255, validation_split=0.2)\n",
    "\n",
    "training_set = train_datagen.flow_from_directory('data/',\n",
    "                                                 target_size=(64, 64),\n",
    "                                                 batch_size=batch_size,\n",
    "                                                 color_mode='grayscale',\n",
    "                                                 class_mode='categorical',\n",
    "                                                 subset='training')\n",
    "\n",
    "test_set = test_datagen.flow_from_directory('data/', # same as train not test\n",
    "                                            target_size=(64, 64),\n",
    "                                            batch_size=batch_size,\n",
    "                                            color_mode='grayscale',\n",
    "                                            class_mode='categorical',\n",
    "                                            subset='validation') \n"
   ]
  },
  {
   "cell_type": "code",
   "execution_count": 18,
   "metadata": {},
   "outputs": [
    {
     "name": "stdout",
     "output_type": "stream",
     "text": [
      "Epoch 1/10\n",
      "32/32 - 2s - loss: 0.3995 - accuracy: 0.8562 - val_loss: 0.0140 - val_accuracy: 1.0000\n",
      "Epoch 2/10\n",
      "32/32 - 1s - loss: 0.0077 - accuracy: 1.0000 - val_loss: 0.0014 - val_accuracy: 1.0000\n",
      "Epoch 3/10\n",
      "32/32 - 1s - loss: 2.0978e-04 - accuracy: 1.0000 - val_loss: 1.6416e-04 - val_accuracy: 1.0000\n",
      "Epoch 4/10\n",
      "32/32 - 1s - loss: 7.2778e-05 - accuracy: 1.0000 - val_loss: 1.1611e-04 - val_accuracy: 1.0000\n",
      "Epoch 5/10\n",
      "32/32 - 1s - loss: 7.8621e-05 - accuracy: 1.0000 - val_loss: 1.0775e-04 - val_accuracy: 1.0000\n",
      "Epoch 6/10\n",
      "32/32 - 1s - loss: 7.0859e-05 - accuracy: 1.0000 - val_loss: 1.0114e-04 - val_accuracy: 1.0000\n",
      "Epoch 7/10\n",
      "32/32 - 1s - loss: 5.2920e-05 - accuracy: 1.0000 - val_loss: 7.6146e-05 - val_accuracy: 1.0000\n",
      "Epoch 8/10\n",
      "32/32 - 1s - loss: 5.3334e-05 - accuracy: 1.0000 - val_loss: 7.4153e-05 - val_accuracy: 1.0000\n",
      "Epoch 9/10\n",
      "32/32 - 1s - loss: 5.5853e-05 - accuracy: 1.0000 - val_loss: 9.7199e-05 - val_accuracy: 1.0000\n",
      "Epoch 10/10\n",
      "32/32 - 1s - loss: 4.2035e-05 - accuracy: 1.0000 - val_loss: 7.7624e-05 - val_accuracy: 1.0000\n"
     ]
    },
    {
     "data": {
      "text/plain": [
       "<tensorflow.python.keras.callbacks.History at 0x7fd57fdb18d0>"
      ]
     },
     "execution_count": 18,
     "metadata": {},
     "output_type": "execute_result"
    }
   ],
   "source": [
    "classifier.fit(\n",
    "        training_set,\n",
    "        batch_size=5,\n",
    "        steps_per_epoch=training_set.samples // batch_size,\n",
    "        epochs=10,\n",
    "        validation_data=test_set,\n",
    "        validation_steps=test_set.samples // batch_size,\n",
    "        verbose=2\n",
    ")"
   ]
  },
  {
   "cell_type": "code",
   "execution_count": 19,
   "metadata": {},
   "outputs": [],
   "source": [
    "# Saving the model\n",
    "model_json = classifier.to_json()\n",
    "with open(\"model.json\", \"w\") as json_file:\n",
    "    json_file.write(model_json)\n",
    "classifier.save_weights('model.h5')"
   ]
  },
  {
   "cell_type": "code",
   "execution_count": null,
   "metadata": {},
   "outputs": [],
   "source": []
  }
 ],
 "metadata": {
  "kernelspec": {
   "display_name": "Python 3",
   "language": "python",
   "name": "python3"
  },
  "language_info": {
   "codemirror_mode": {
    "name": "ipython",
    "version": 3
   },
   "file_extension": ".py",
   "mimetype": "text/x-python",
   "name": "python",
   "nbconvert_exporter": "python",
   "pygments_lexer": "ipython3",
   "version": "3.7.4"
  }
 },
 "nbformat": 4,
 "nbformat_minor": 4
}
